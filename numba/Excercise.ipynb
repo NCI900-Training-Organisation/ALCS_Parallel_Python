{
 "cells": [
  {
   "cell_type": "code",
   "execution_count": 15,
   "id": "66b5e781",
   "metadata": {},
   "outputs": [],
   "source": [
    "import numba\n",
    "from numba import jit, int32, prange, vectorize, float64, cuda\n",
    "import numpy as np\n",
    "import math"
   ]
  },
  {
   "cell_type": "code",
   "execution_count": 2,
   "id": "8191fada",
   "metadata": {},
   "outputs": [],
   "source": [
    "# Function that calculates the value of Pi using monte-carlo method\n",
    "# Minimal use of Numpy\n",
    "def native_python_monte_carlo(n):\n",
    "    within_circle = 0\n",
    "    \n",
    "    for i in range(int(n)):\n",
    "        x = np.random.random()\n",
    "        y = np.random.random()\n",
    "        \n",
    "        if x**2 + y**2 <= 1.0:\n",
    "            within_circle += 1\n",
    "        \n",
    "    return 4.0 * within_circle / n"
   ]
  },
  {
   "cell_type": "code",
   "execution_count": 3,
   "id": "d6ba19f7",
   "metadata": {},
   "outputs": [
    {
     "name": "stdout",
     "output_type": "stream",
     "text": [
      "3.1409408\n",
      "CPU times: user 7.25 s, sys: 0 ns, total: 7.25 s\n",
      "Wall time: 7.25 s\n"
     ]
    }
   ],
   "source": [
    "%%time\n",
    "print(native_python_monte_carlo(10000000))"
   ]
  },
  {
   "cell_type": "code",
   "execution_count": 4,
   "id": "61309f66",
   "metadata": {},
   "outputs": [],
   "source": [
    "# Function that calculates the value of Pi using monte-carlo method\n",
    "# Leveraged numpy as far as possible\n",
    "\n",
    "def numpy_python_monte_carlo(n):\n",
    "    within_circle = 0\n",
    "    \n",
    "    x = np.random.random(int(n))\n",
    "    y = np.random.random(int(n))\n",
    "        \n",
    "    within_circle = np.sum( (x**2 + y**2) <= 1.0 )\n",
    "        \n",
    "    return 4.0 * within_circle / n"
   ]
  },
  {
   "cell_type": "code",
   "execution_count": 5,
   "id": "d84cecc9",
   "metadata": {},
   "outputs": [
    {
     "name": "stdout",
     "output_type": "stream",
     "text": [
      "3.1418096\n",
      "CPU times: user 132 ms, sys: 110 ms, total: 242 ms\n",
      "Wall time: 241 ms\n"
     ]
    }
   ],
   "source": [
    "%%time\n",
    "print(numpy_python_monte_carlo(10000000))"
   ]
  },
  {
   "cell_type": "markdown",
   "id": "c419a8c9",
   "metadata": {
    "solution": "hidden",
    "solution2": "hidden",
    "solution2_first": true
   },
   "source": [
    "### Use @jit on both functions and see what is the speedup acheived (ignore the first run)\n",
    "* Native python :\n",
    "* Numpy :\n",
    "\n",
    "* Natve python with Numba :\n",
    "* Numpy wuth Numba: "
   ]
  },
  {
   "cell_type": "code",
   "execution_count": 6,
   "id": "f69e91ea",
   "metadata": {
    "solution2": "hidden"
   },
   "outputs": [
    {
     "name": "stderr",
     "output_type": "stream",
     "text": [
      "<ipython-input-6-181b95bfdbf1>:2: NumbaDeprecationWarning: \u001b[1mThe 'nopython' keyword argument was not supplied to the 'numba.jit' decorator. The implicit default value for this argument is currently False, but it will be changed to True in Numba 0.59.0. See https://numba.readthedocs.io/en/stable/reference/deprecation.html#deprecation-of-object-mode-fall-back-behaviour-when-using-jit for details.\u001b[0m\n",
      "  def native_python_monte_carlo(n):\n"
     ]
    }
   ],
   "source": [
    "@jit\n",
    "def native_python_monte_carlo(n):\n",
    "    within_circle = 0\n",
    "    \n",
    "    for i in range(int(n)):\n",
    "        x = np.random.random()\n",
    "        y = np.random.random()\n",
    "        \n",
    "        if x**2 + y**2 <= 1.0:\n",
    "           within_circle += 1\n",
    "        \n",
    "    return 4.0 * within_circle / n\n",
    "\n"
   ]
  },
  {
   "cell_type": "code",
   "execution_count": 7,
   "id": "48124938",
   "metadata": {
    "solution2": "hidden"
   },
   "outputs": [
    {
     "name": "stderr",
     "output_type": "stream",
     "text": [
      "<ipython-input-7-4ea981f41fd4>:2: NumbaDeprecationWarning: \u001b[1mThe 'nopython' keyword argument was not supplied to the 'numba.jit' decorator. The implicit default value for this argument is currently False, but it will be changed to True in Numba 0.59.0. See https://numba.readthedocs.io/en/stable/reference/deprecation.html#deprecation-of-object-mode-fall-back-behaviour-when-using-jit for details.\u001b[0m\n",
      "  def numpy_python_monte_carlo(n):\n"
     ]
    }
   ],
   "source": [
    "@jit\n",
    "def numpy_python_monte_carlo(n):\n",
    "    within_circle = 0\n",
    "    \n",
    "    x = np.random.random(int(n))\n",
    "    y = np.random.random(int(n))\n",
    "        \n",
    "    within_circle = np.sum( (x**2 + y**2) <= 1.0 )\n",
    "        \n",
    "    return 4.0 * within_circle / n"
   ]
  },
  {
   "cell_type": "markdown",
   "id": "aee4a105",
   "metadata": {
    "solution2": "hidden",
    "solution2_first": true
   },
   "source": [
    "### What is the difference If we use eager compilation (ignore first run)?\n",
    "\n",
    "* Native python with Numba (Lazy):\n",
    "* Native python with Numba (Eager):"
   ]
  },
  {
   "cell_type": "code",
   "execution_count": 8,
   "id": "3a799426",
   "metadata": {
    "solution2": "hidden"
   },
   "outputs": [
    {
     "name": "stderr",
     "output_type": "stream",
     "text": [
      "<ipython-input-8-8a8175256212>:1: NumbaDeprecationWarning: \u001b[1mThe 'nopython' keyword argument was not supplied to the 'numba.jit' decorator. The implicit default value for this argument is currently False, but it will be changed to True in Numba 0.59.0. See https://numba.readthedocs.io/en/stable/reference/deprecation.html#deprecation-of-object-mode-fall-back-behaviour-when-using-jit for details.\u001b[0m\n",
      "  @jit(numba.float32(int32))\n"
     ]
    }
   ],
   "source": [
    "\n",
    "\n",
    "@jit(numba.float32(int32))\n",
    "def native_python_monte_carlo_eager(n):\n",
    "    within_circle = 0\n",
    "    \n",
    "    for i in range(int(n)):\n",
    "        x = np.random.random()\n",
    "        y = np.random.random()\n",
    "        \n",
    "        if x**2 + y**2 <= 1.0:\n",
    "            within_circle += 1\n",
    "        \n",
    "    return 4.0 * within_circle / n"
   ]
  },
  {
   "cell_type": "code",
   "execution_count": 9,
   "id": "32ef0c87",
   "metadata": {
    "scrolled": true,
    "solution2": "hidden"
   },
   "outputs": [
    {
     "name": "stdout",
     "output_type": "stream",
     "text": [
      "3.1408839225769043\n",
      "CPU times: user 85.3 ms, sys: 112 µs, total: 85.4 ms\n",
      "Wall time: 84.3 ms\n"
     ]
    }
   ],
   "source": [
    "%%time\n",
    "print(native_python_monte_carlo_eager(10000000))"
   ]
  },
  {
   "cell_type": "code",
   "execution_count": 10,
   "id": "ac688412",
   "metadata": {
    "solution2": "hidden"
   },
   "outputs": [
    {
     "name": "stdout",
     "output_type": "stream",
     "text": [
      "CPU times: user 342 µs, sys: 39 µs, total: 381 µs\n",
      "Wall time: 347 µs\n"
     ]
    },
    {
     "name": "stderr",
     "output_type": "stream",
     "text": [
      "<timed exec>:2: NumbaDeprecationWarning: \u001b[1mThe 'nopython' keyword argument was not supplied to the 'numba.jit' decorator. The implicit default value for this argument is currently False, but it will be changed to True in Numba 0.59.0. See https://numba.readthedocs.io/en/stable/reference/deprecation.html#deprecation-of-object-mode-fall-back-behaviour-when-using-jit for details.\u001b[0m\n"
     ]
    }
   ],
   "source": [
    "%%time\n",
    "@jit\n",
    "def native_python_monte_carlo_lazy(n):\n",
    "    within_circle = 0\n",
    "    \n",
    "    for i in range(int(n)):\n",
    "        x = np.random.random()\n",
    "        y = np.random.random()\n",
    "        \n",
    "        if x**2 + y**2 <= 1.0:\n",
    "            within_circle += 1\n",
    "        \n",
    "    return 4.0 * within_circle / n"
   ]
  },
  {
   "cell_type": "code",
   "execution_count": 11,
   "id": "2c6a9ad3",
   "metadata": {
    "scrolled": true,
    "solution2": "hidden"
   },
   "outputs": [
    {
     "name": "stdout",
     "output_type": "stream",
     "text": [
      "3.1410044\n",
      "CPU times: user 169 ms, sys: 1.16 ms, total: 170 ms\n",
      "Wall time: 168 ms\n"
     ]
    }
   ],
   "source": [
    "%%time\n",
    "print(native_python_monte_carlo_lazy(10000000))"
   ]
  },
  {
   "cell_type": "markdown",
   "id": "57e910c4",
   "metadata": {
    "solution2": "hidden",
    "solution2_first": true
   },
   "source": [
    "### What is the difference with and without automatic parallelization (ignore the first run)?\n",
    "hint: use *numba.prange* instead of *range*\n",
    "* With parallel:\n",
    "* Without parallel:"
   ]
  },
  {
   "cell_type": "code",
   "execution_count": 12,
   "id": "b0e89b8d",
   "metadata": {
    "solution2": "hidden"
   },
   "outputs": [
    {
     "name": "stderr",
     "output_type": "stream",
     "text": [
      "<ipython-input-12-853d4a94477d>:1: NumbaDeprecationWarning: \u001b[1mThe 'nopython' keyword argument was not supplied to the 'numba.jit' decorator. The implicit default value for this argument is currently False, but it will be changed to True in Numba 0.59.0. See https://numba.readthedocs.io/en/stable/reference/deprecation.html#deprecation-of-object-mode-fall-back-behaviour-when-using-jit for details.\u001b[0m\n",
      "  @jit(parallel=True)\n"
     ]
    }
   ],
   "source": [
    "@jit(parallel=True)\n",
    "def native_python_monte_carlo_parallel(n):\n",
    "    within_circle = 0\n",
    "    \n",
    "    for i in numba.prange(int(n)):\n",
    "        x = np.random.random()\n",
    "        y = np.random.random()\n",
    "        \n",
    "        if x**2 + y**2 <= 1.0:\n",
    "            within_circle += 1\n",
    "        \n",
    "    return 4.0 * within_circle / n"
   ]
  },
  {
   "cell_type": "code",
   "execution_count": 13,
   "id": "42ac8e11",
   "metadata": {
    "solution2": "hidden"
   },
   "outputs": [
    {
     "name": "stdout",
     "output_type": "stream",
     "text": [
      "3.1413492\n",
      "CPU times: user 1.36 s, sys: 39.6 ms, total: 1.4 s\n",
      "Wall time: 600 ms\n"
     ]
    }
   ],
   "source": [
    "%%time\n",
    "print(native_python_monte_carlo_parallel(10000000))"
   ]
  },
  {
   "cell_type": "markdown",
   "id": "4b23361b",
   "metadata": {},
   "source": [
    "### Offload the computation to a GPU\n",
    "* Assumptions:\n",
    "    * N <= 512\n",
    "* Hints:\n",
    "    * Launch one block with threads <= 512"
   ]
  },
  {
   "cell_type": "code",
   "execution_count": 18,
   "id": "cebaf767",
   "metadata": {
    "solution2": "hidden",
    "solution2_first": true
   },
   "outputs": [],
   "source": [
    "@cuda.jit\n",
    "def native_python_monte_kernel(array_a, array_b, array_c):\n",
    "    # Thread id in a 1D block\n",
    "    tx = cuda.threadIdx.x\n",
    " \n",
    "    if tx < an_array.size:  # Check array boundaries\n",
    "        array_c[tx] = 1 if array_a[tx]**2 + array_b[tx]**2 <= 1.0  else 0"
   ]
  },
  {
   "cell_type": "code",
   "execution_count": 21,
   "id": "164d2e26",
   "metadata": {
    "solution2": "hidden"
   },
   "outputs": [],
   "source": [
    "n = 256\n",
    "array_a = np.random.random(n)\n",
    "array_b = np.random.random(n)\n",
    "array_c = np.zeros(n)\n",
    "\n"
   ]
  },
  {
   "cell_type": "code",
   "execution_count": null,
   "id": "368a4328",
   "metadata": {},
   "outputs": [],
   "source": [
    "\n",
    "native_python_monte_kernel[1, n](array_a, array_b, array_c)\n",
    "print(4.0 * np.sum(array_c) / n)"
   ]
  }
 ],
 "metadata": {
  "kernelspec": {
   "display_name": "Python 3",
   "language": "python",
   "name": "python3"
  },
  "language_info": {
   "codemirror_mode": {
    "name": "ipython",
    "version": 3
   },
   "file_extension": ".py",
   "mimetype": "text/x-python",
   "name": "python",
   "nbconvert_exporter": "python",
   "pygments_lexer": "ipython3",
   "version": "3.8.10"
  }
 },
 "nbformat": 4,
 "nbformat_minor": 5
}
