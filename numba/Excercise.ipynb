{
 "cells": [
  {
   "cell_type": "code",
   "execution_count": 1,
   "id": "5e3ba98c",
   "metadata": {},
   "outputs": [],
   "source": [
    "import numba\n",
    "from numba import jit, int32, prange, vectorize, float64, cuda\n",
    "import numpy as np\n",
    "import math"
   ]
  },
  {
   "cell_type": "code",
   "execution_count": 2,
   "id": "37f8f218",
   "metadata": {},
   "outputs": [],
   "source": [
    "# Function that calculates the value of Pi using monte-carlo method\n",
    "# Minimal use of Numpy\n",
    "def native_python_monte_carlo(n):\n",
    "    within_circle = 0\n",
    "    \n",
    "    for i in range(int(n)):\n",
    "        x = np.random.random()\n",
    "        y = np.random.random()\n",
    "        \n",
    "        if x**2 + y**2 <= 1.0:\n",
    "            within_circle += 1\n",
    "        \n",
    "    return 4.0 * within_circle / n"
   ]
  },
  {
   "cell_type": "code",
   "execution_count": 3,
   "id": "e775b265",
   "metadata": {},
   "outputs": [
    {
     "name": "stdout",
     "output_type": "stream",
     "text": [
      "3.1414924\n",
      "CPU times: user 9.3 s, sys: 13.9 ms, total: 9.31 s\n",
      "Wall time: 9.31 s\n"
     ]
    }
   ],
   "source": [
    "%%time\n",
    "print(native_python_monte_carlo(10000000))"
   ]
  },
  {
   "cell_type": "code",
   "execution_count": 4,
   "id": "3576c9e1",
   "metadata": {},
   "outputs": [],
   "source": [
    "# Function that calculates the value of Pi using monte-carlo method\n",
    "# Leveraged numpy as far as possible\n",
    "\n",
    "def numpy_python_monte_carlo(n):\n",
    "    within_circle = 0\n",
    "    \n",
    "    x = np.random.random(int(n))\n",
    "    y = np.random.random(int(n))\n",
    "        \n",
    "    within_circle = np.sum( (x**2 + y**2) <= 1.0 )\n",
    "        \n",
    "    return 4.0 * within_circle / n"
   ]
  },
  {
   "cell_type": "code",
   "execution_count": 5,
   "id": "1d07736e",
   "metadata": {},
   "outputs": [
    {
     "name": "stdout",
     "output_type": "stream",
     "text": [
      "3.1415328\n",
      "CPU times: user 165 ms, sys: 55.2 ms, total: 220 ms\n",
      "Wall time: 220 ms\n"
     ]
    }
   ],
   "source": [
    "%%time\n",
    "print(numpy_python_monte_carlo(10000000))"
   ]
  },
  {
   "cell_type": "markdown",
   "id": "288cd73c",
   "metadata": {
    "solution": "hidden",
    "solution2": "hidden",
    "solution2_first": true
   },
   "source": [
    "### Use @jit on both functions and see what is the speedup acheived (ignore the first run)\n",
    "* Native python :\n",
    "* Numpy :\n",
    "\n",
    "* Natve python with Numba :\n",
    "* Numpy wuth Numba: "
   ]
  },
  {
   "cell_type": "code",
   "execution_count": 6,
   "id": "3d3fb743",
   "metadata": {
    "solution2": "hidden"
   },
   "outputs": [
    {
     "name": "stderr",
     "output_type": "stream",
     "text": [
      "/jobfs/92590713.gadi-pbs/ipykernel_2094823/3710288336.py:2: NumbaDeprecationWarning: The 'nopython' keyword argument was not supplied to the 'numba.jit' decorator. The implicit default value for this argument is currently False, but it will be changed to True in Numba 0.59.0. See https://numba.readthedocs.io/en/stable/reference/deprecation.html#deprecation-of-object-mode-fall-back-behaviour-when-using-jit for details.\n",
      "  def native_python_monte_carlo(n):\n"
     ]
    }
   ],
   "source": [
    "@jit\n",
    "def native_python_monte_carlo(n):\n",
    "    within_circle = 0\n",
    "    \n",
    "    for i in range(int(n)):\n",
    "        x = np.random.random()\n",
    "        y = np.random.random()\n",
    "        \n",
    "        if x**2 + y**2 <= 1.0:\n",
    "           within_circle += 1\n",
    "        \n",
    "    return 4.0 * within_circle / n\n",
    "\n"
   ]
  },
  {
   "cell_type": "code",
   "execution_count": 7,
   "id": "4893dab8",
   "metadata": {
    "solution2": "hidden"
   },
   "outputs": [
    {
     "name": "stderr",
     "output_type": "stream",
     "text": [
      "/jobfs/92590713.gadi-pbs/ipykernel_2094823/2359754169.py:2: NumbaDeprecationWarning: The 'nopython' keyword argument was not supplied to the 'numba.jit' decorator. The implicit default value for this argument is currently False, but it will be changed to True in Numba 0.59.0. See https://numba.readthedocs.io/en/stable/reference/deprecation.html#deprecation-of-object-mode-fall-back-behaviour-when-using-jit for details.\n",
      "  def numpy_python_monte_carlo(n):\n"
     ]
    }
   ],
   "source": [
    "@jit\n",
    "def numpy_python_monte_carlo(n):\n",
    "    within_circle = 0\n",
    "    \n",
    "    x = np.random.random(int(n))\n",
    "    y = np.random.random(int(n))\n",
    "        \n",
    "    within_circle = np.sum( (x**2 + y**2) <= 1.0 )\n",
    "        \n",
    "    return 4.0 * within_circle / n"
   ]
  },
  {
   "cell_type": "markdown",
   "id": "c285d8f4",
   "metadata": {
    "solution2": "hidden",
    "solution2_first": true
   },
   "source": [
    "### What is the difference If we use eager compilation (ignore first run)?\n",
    "\n",
    "* Native python with Numba (Lazy):\n",
    "* Native python with Numba (Eager):"
   ]
  },
  {
   "cell_type": "code",
   "execution_count": 8,
   "id": "cbf6d03c",
   "metadata": {
    "solution2": "hidden"
   },
   "outputs": [
    {
     "name": "stderr",
     "output_type": "stream",
     "text": [
      "/jobfs/92590713.gadi-pbs/ipykernel_2094823/3766104392.py:1: NumbaDeprecationWarning: The 'nopython' keyword argument was not supplied to the 'numba.jit' decorator. The implicit default value for this argument is currently False, but it will be changed to True in Numba 0.59.0. See https://numba.readthedocs.io/en/stable/reference/deprecation.html#deprecation-of-object-mode-fall-back-behaviour-when-using-jit for details.\n",
      "  @jit(numba.float32(int32))\n"
     ]
    }
   ],
   "source": [
    "\n",
    "\n",
    "@jit(numba.float32(int32))\n",
    "def native_python_monte_carlo_eager(n):\n",
    "    within_circle = 0\n",
    "    \n",
    "    for i in range(int(n)):\n",
    "        x = np.random.random()\n",
    "        y = np.random.random()\n",
    "        \n",
    "        if x**2 + y**2 <= 1.0:\n",
    "            within_circle += 1\n",
    "        \n",
    "    return 4.0 * within_circle / n"
   ]
  },
  {
   "cell_type": "code",
   "execution_count": 9,
   "id": "6525c155",
   "metadata": {
    "scrolled": true,
    "solution2": "hidden"
   },
   "outputs": [
    {
     "name": "stdout",
     "output_type": "stream",
     "text": [
      "3.1418604850769043\n",
      "CPU times: user 80.9 ms, sys: 4.59 ms, total: 85.5 ms\n",
      "Wall time: 84.6 ms\n"
     ]
    }
   ],
   "source": [
    "%%time\n",
    "print(native_python_monte_carlo_eager(10000000))"
   ]
  },
  {
   "cell_type": "code",
   "execution_count": 10,
   "id": "79348754",
   "metadata": {
    "solution2": "hidden"
   },
   "outputs": [
    {
     "name": "stdout",
     "output_type": "stream",
     "text": [
      "CPU times: user 274 µs, sys: 0 ns, total: 274 µs\n",
      "Wall time: 247 µs\n"
     ]
    },
    {
     "name": "stderr",
     "output_type": "stream",
     "text": [
      "<timed exec>:2: NumbaDeprecationWarning: The 'nopython' keyword argument was not supplied to the 'numba.jit' decorator. The implicit default value for this argument is currently False, but it will be changed to True in Numba 0.59.0. See https://numba.readthedocs.io/en/stable/reference/deprecation.html#deprecation-of-object-mode-fall-back-behaviour-when-using-jit for details.\n"
     ]
    }
   ],
   "source": [
    "%%time\n",
    "@jit\n",
    "def native_python_monte_carlo_lazy(n):\n",
    "    within_circle = 0\n",
    "    \n",
    "    for i in range(int(n)):\n",
    "        x = np.random.random()\n",
    "        y = np.random.random()\n",
    "        \n",
    "        if x**2 + y**2 <= 1.0:\n",
    "            within_circle += 1\n",
    "        \n",
    "    return 4.0 * within_circle / n"
   ]
  },
  {
   "cell_type": "code",
   "execution_count": 11,
   "id": "0c0225cb",
   "metadata": {
    "scrolled": true,
    "solution2": "hidden"
   },
   "outputs": [
    {
     "name": "stdout",
     "output_type": "stream",
     "text": [
      "3.1413696\n",
      "CPU times: user 176 ms, sys: 0 ns, total: 176 ms\n",
      "Wall time: 175 ms\n"
     ]
    }
   ],
   "source": [
    "%%time\n",
    "print(native_python_monte_carlo_lazy(10000000))"
   ]
  },
  {
   "cell_type": "markdown",
   "id": "0fd1c335",
   "metadata": {
    "solution2": "hidden",
    "solution2_first": true
   },
   "source": [
    "### What is the difference with and without automatic parallelization (ignore the first run)?\n",
    "hint: use *numba.prange* instead of *range*\n",
    "* With parallel:\n",
    "* Without parallel:"
   ]
  },
  {
   "cell_type": "code",
   "execution_count": 12,
   "id": "956e41cf",
   "metadata": {
    "solution2": "hidden"
   },
   "outputs": [
    {
     "name": "stderr",
     "output_type": "stream",
     "text": [
      "/jobfs/92590713.gadi-pbs/ipykernel_2094823/3846322881.py:1: NumbaDeprecationWarning: The 'nopython' keyword argument was not supplied to the 'numba.jit' decorator. The implicit default value for this argument is currently False, but it will be changed to True in Numba 0.59.0. See https://numba.readthedocs.io/en/stable/reference/deprecation.html#deprecation-of-object-mode-fall-back-behaviour-when-using-jit for details.\n",
      "  @jit(parallel=True)\n"
     ]
    }
   ],
   "source": [
    "@jit(parallel=True)\n",
    "def native_python_monte_carlo_parallel(n):\n",
    "    within_circle = 0\n",
    "    \n",
    "    for i in numba.prange(int(n)):\n",
    "        x = np.random.random()\n",
    "        y = np.random.random()\n",
    "        \n",
    "        if x**2 + y**2 <= 1.0:\n",
    "            within_circle += 1\n",
    "        \n",
    "    return 4.0 * within_circle / n"
   ]
  },
  {
   "cell_type": "code",
   "execution_count": 13,
   "id": "87b2d663",
   "metadata": {
    "solution2": "hidden"
   },
   "outputs": [
    {
     "name": "stdout",
     "output_type": "stream",
     "text": [
      "3.1411368\n",
      "CPU times: user 648 ms, sys: 0 ns, total: 648 ms\n",
      "Wall time: 574 ms\n"
     ]
    }
   ],
   "source": [
    "%%time\n",
    "print(native_python_monte_carlo_parallel(10000000))"
   ]
  },
  {
   "cell_type": "markdown",
   "id": "87680c8b",
   "metadata": {},
   "source": [
    "### Offload the computation to a GPU\n",
    "* Assumptions:\n",
    "    * N <= 512\n",
    "* Hints:\n",
    "    * Launch one block with threads <= 512"
   ]
  },
  {
   "cell_type": "code",
   "execution_count": 14,
   "id": "a8cf14e0",
   "metadata": {
    "solution2": "hidden",
    "solution2_first": true
   },
   "outputs": [],
   "source": [
    "@cuda.jit\n",
    "def native_python_monte_kernel(array_a, array_b, array_c):\n",
    "    # Thread id in a 1D block\n",
    "    tx = cuda.threadIdx.x\n",
    " \n",
    "    if tx < array_a.size:  # Check array boundaries\n",
    "        array_c[tx] = 1 if array_a[tx]**2 + array_b[tx]**2 <= 1.0  else 0"
   ]
  },
  {
   "cell_type": "code",
   "execution_count": 15,
   "id": "c6d52e7e",
   "metadata": {
    "solution2": "hidden"
   },
   "outputs": [
    {
     "ename": "NameError",
     "evalue": "name 'n' is not defined",
     "output_type": "error",
     "traceback": [
      "\u001b[0;31m---------------------------------------------------------------------------\u001b[0m",
      "\u001b[0;31mNameError\u001b[0m                                 Traceback (most recent call last)",
      "Cell \u001b[0;32mIn[15], line 3\u001b[0m\n\u001b[1;32m      1\u001b[0m blocks \u001b[38;5;241m=\u001b[39m \u001b[38;5;241m2\u001b[39m\n\u001b[1;32m      2\u001b[0m threads \u001b[38;5;241m=\u001b[39m \u001b[38;5;241m256\u001b[39m\n\u001b[0;32m----> 3\u001b[0m array_a \u001b[38;5;241m=\u001b[39m np\u001b[38;5;241m.\u001b[39mrandom\u001b[38;5;241m.\u001b[39mrandom(\u001b[43mn\u001b[49m)\n\u001b[1;32m      4\u001b[0m array_b \u001b[38;5;241m=\u001b[39m np\u001b[38;5;241m.\u001b[39mrandom\u001b[38;5;241m.\u001b[39mrandom(n)\n\u001b[1;32m      5\u001b[0m array_c \u001b[38;5;241m=\u001b[39m np\u001b[38;5;241m.\u001b[39mzeros(n)\n",
      "\u001b[0;31mNameError\u001b[0m: name 'n' is not defined"
     ]
    }
   ],
   "source": [
    "blocks = 2\n",
    "threads = 256\n",
    "array_a = np.random.random(n)\n",
    "array_b = np.random.random(n)\n",
    "array_c = np.zeros(n)\n",
    "\n"
   ]
  },
  {
   "cell_type": "code",
   "execution_count": null,
   "id": "c46482d5",
   "metadata": {},
   "outputs": [],
   "source": [
    "\n",
    "native_python_monte_kernel[blocks, threads](array_a, array_b, array_c)\n",
    "print(4.0 * np.sum(array_c) / n)"
   ]
  },
  {
   "cell_type": "code",
   "execution_count": null,
   "id": "0d6f7861",
   "metadata": {},
   "outputs": [],
   "source": []
  }
 ],
 "metadata": {
  "kernelspec": {
   "display_name": "Python 3 (ipykernel)",
   "language": "python",
   "name": "python3"
  },
  "language_info": {
   "codemirror_mode": {
    "name": "ipython",
    "version": 3
   },
   "file_extension": ".py",
   "mimetype": "text/x-python",
   "name": "python",
   "nbconvert_exporter": "python",
   "pygments_lexer": "ipython3",
   "version": "3.9.2"
  }
 },
 "nbformat": 4,
 "nbformat_minor": 5
}
