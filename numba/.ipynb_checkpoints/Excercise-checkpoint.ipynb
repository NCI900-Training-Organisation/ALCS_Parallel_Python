{
 "cells": [
  {
   "cell_type": "code",
   "execution_count": 2,
   "id": "f48c4763",
   "metadata": {},
   "outputs": [],
   "source": [
    "import numba\n",
    "from numba import jit, int32, prange, vectorize, float64\n",
    "import numpy as np\n",
    "import math"
   ]
  },
  {
   "cell_type": "code",
   "execution_count": null,
   "id": "6295cefa",
   "metadata": {},
   "outputs": [],
   "source": [
    "# Function that calculates the value of Pi using monte-carlo method\n",
    "# Minimal use of Numpy\n",
    "def native_python_monte_carlo(n):\n",
    "    within_circle = 0\n",
    "    \n",
    "    for i in range(int(n)):\n",
    "        x = np.random.random()\n",
    "        y = np.random.random()\n",
    "        \n",
    "        if x**2 + y**2 <= 1.0:\n",
    "            within_circle += 1\n",
    "        \n",
    "    return 4.0 * within_circle / n"
   ]
  },
  {
   "cell_type": "code",
   "execution_count": 44,
   "id": "3d292de9",
   "metadata": {},
   "outputs": [
    {
     "name": "stdout",
     "output_type": "stream",
     "text": [
      "3.1415\n",
      "CPU times: user 13.9 s, sys: 35 ms, total: 14 s\n",
      "Wall time: 14 s\n"
     ]
    }
   ],
   "source": [
    "%%time\n",
    "print(native_python_monte_carlo(10000000))"
   ]
  },
  {
   "cell_type": "code",
   "execution_count": null,
   "id": "61dd0791",
   "metadata": {},
   "outputs": [],
   "source": [
    "# Function that calculates the value of Pi using monte-carlo method\n",
    "# Leveraged numpy as far as possible\n",
    "\n",
    "def numpy_python_monte_carlo(n):\n",
    "    within_circle = 0\n",
    "    \n",
    "    x = np.random.random(int(n))\n",
    "    y = np.random.random(int(n))\n",
    "        \n",
    "    within_circle = np.sum( (x**2 + y**2) <= 1.0 )\n",
    "        \n",
    "    return 4.0 * within_circle / n"
   ]
  },
  {
   "cell_type": "code",
   "execution_count": null,
   "id": "bcde6e9a",
   "metadata": {},
   "outputs": [],
   "source": [
    "%%time\n",
    "print(numpy_python_monte_carlo(10000000))"
   ]
  },
  {
   "cell_type": "markdown",
   "id": "40b3aadb",
   "metadata": {
    "solution": "hidden",
    "solution2": "hidden",
    "solution2_first": true
   },
   "source": [
    "### Use @jit on both functions and see what is the speedup acheived (ignore the first run)\n",
    "* Native python :\n",
    "* Numpy :\n",
    "\n",
    "* Natve python with Numba :\n",
    "* Numpy wuth Numba: "
   ]
  },
  {
   "cell_type": "code",
   "execution_count": 42,
   "id": "aceb2dad",
   "metadata": {
    "solution2": "hidden"
   },
   "outputs": [],
   "source": [
    "@jit\n",
    "def native_python_monte_carlo(n):\n",
    "    within_circle = 0\n",
    "    \n",
    "    for i in range(int(n)):\n",
    "        x = np.random.random()\n",
    "        y = np.random.random()\n",
    "        \n",
    "        if x**2 + y**2 <= 1.0:\n",
    "           within_circle += 1\n",
    "        \n",
    "    return 4.0 * within_circle / n\n",
    "\n"
   ]
  },
  {
   "cell_type": "code",
   "execution_count": null,
   "id": "f71bf3a2",
   "metadata": {
    "solution2": "hidden"
   },
   "outputs": [],
   "source": [
    "@jit\n",
    "def numpy_python_monte_carlo(n):\n",
    "    within_circle = 0\n",
    "    \n",
    "    x = np.random.random(int(n))\n",
    "    y = np.random.random(int(n))\n",
    "        \n",
    "    within_circle = np.sum( (x**2 + y**2) <= 1.0 )\n",
    "        \n",
    "    return 4.0 * within_circle / n"
   ]
  },
  {
   "cell_type": "markdown",
   "id": "1fe03551",
   "metadata": {
    "solution2": "hidden",
    "solution2_first": true
   },
   "source": [
    "### What is the difference If we use eager compilation (ignore first run)?\n",
    "\n",
    "* Natve python with Numba (Lazy):\n",
    "* Natve python with Numba (Eager):"
   ]
  },
  {
   "cell_type": "code",
   "execution_count": 5,
   "id": "f5569f46",
   "metadata": {
    "solution2": "hidden"
   },
   "outputs": [
    {
     "name": "stdout",
     "output_type": "stream",
     "text": [
      "CPU times: user 142 ms, sys: 6.53 ms, total: 148 ms\n",
      "Wall time: 161 ms\n"
     ]
    }
   ],
   "source": [
    "\n",
    "\n",
    "@jit(numba.float32(int32))\n",
    "def native_python_monte_carlo_eager(n):\n",
    "    within_circle = 0\n",
    "    \n",
    "    for i in range(int(n)):\n",
    "        x = np.random.random()\n",
    "        y = np.random.random()\n",
    "        \n",
    "        if x**2 + y**2 <= 1.0:\n",
    "            within_circle += 1\n",
    "        \n",
    "    return 4.0 * within_circle / n"
   ]
  },
  {
   "cell_type": "code",
   "execution_count": 8,
   "id": "1c31bf7b",
   "metadata": {
    "scrolled": true,
    "solution2": "hidden"
   },
   "outputs": [
    {
     "name": "stdout",
     "output_type": "stream",
     "text": [
      "3.1419079303741455\n",
      "CPU times: user 125 ms, sys: 3.77 ms, total: 129 ms\n",
      "Wall time: 135 ms\n"
     ]
    }
   ],
   "source": [
    "%%time\n",
    "print(native_python_monte_carlo_eager(10000000))"
   ]
  },
  {
   "cell_type": "code",
   "execution_count": 6,
   "id": "1197a0e9",
   "metadata": {
    "solution2": "hidden"
   },
   "outputs": [
    {
     "name": "stdout",
     "output_type": "stream",
     "text": [
      "CPU times: user 322 µs, sys: 15 µs, total: 337 µs\n",
      "Wall time: 416 µs\n"
     ]
    }
   ],
   "source": [
    "%%time\n",
    "@jit\n",
    "def native_python_monte_carlo_lazy(n):\n",
    "    within_circle = 0\n",
    "    \n",
    "    for i in range(int(n)):\n",
    "        x = np.random.random()\n",
    "        y = np.random.random()\n",
    "        \n",
    "        if x**2 + y**2 <= 1.0:\n",
    "            within_circle += 1\n",
    "        \n",
    "    return 4.0 * within_circle / n"
   ]
  },
  {
   "cell_type": "code",
   "execution_count": 9,
   "id": "0504578b",
   "metadata": {
    "scrolled": true,
    "solution2": "hidden"
   },
   "outputs": [
    {
     "name": "stdout",
     "output_type": "stream",
     "text": [
      "3.1412092\n",
      "CPU times: user 208 ms, sys: 5.46 ms, total: 213 ms\n",
      "Wall time: 220 ms\n"
     ]
    }
   ],
   "source": [
    "%%time\n",
    "print(native_python_monte_carlo_lazy(10000000))"
   ]
  },
  {
   "cell_type": "markdown",
   "id": "e4d1d2ac",
   "metadata": {
    "solution2": "hidden",
    "solution2_first": true
   },
   "source": [
    "### What is the difference with and without automatic parallelization (ignore the first run)?\n",
    "hint: use *numba.prange* instead of *range*\n",
    "* With parallel:\n",
    "* Without parallel:"
   ]
  },
  {
   "cell_type": "code",
   "execution_count": 20,
   "id": "22cbf22d",
   "metadata": {
    "solution2": "hidden"
   },
   "outputs": [],
   "source": [
    "@jit(parallel=True)\n",
    "def native_python_monte_carlo_parallel(n):\n",
    "    within_circle = 0\n",
    "    \n",
    "    for i in numba.prange(int(n)):\n",
    "        x = np.random.random()\n",
    "        y = np.random.random()\n",
    "        \n",
    "        if x**2 + y**2 <= 1.0:\n",
    "            within_circle += 1\n",
    "        \n",
    "    return 4.0 * within_circle / n"
   ]
  },
  {
   "cell_type": "code",
   "execution_count": 23,
   "id": "20abc404",
   "metadata": {
    "solution2": "hidden"
   },
   "outputs": [
    {
     "name": "stdout",
     "output_type": "stream",
     "text": [
      "3.141594\n",
      "CPU times: user 221 ms, sys: 4.38 ms, total: 226 ms\n",
      "Wall time: 92.5 ms\n"
     ]
    }
   ],
   "source": [
    "%%time\n",
    "print(native_python_monte_carlo_parallel(10000000))"
   ]
  },
  {
   "cell_type": "markdown",
   "id": "d8965c1c",
   "metadata": {},
   "source": [
    "### Offload the computation to a GPU\n",
    "* Assumptions:\n",
    "    * N <= 512\n",
    "* Hints:\n",
    "    * Launch one block with threads <= 512"
   ]
  },
  {
   "cell_type": "code",
   "execution_count": 29,
   "id": "4e1cdafc",
   "metadata": {
    "solution2": "hidden",
    "solution2_first": true
   },
   "outputs": [
    {
     "ename": "NameError",
     "evalue": "name 'cuda' is not defined",
     "output_type": "error",
     "traceback": [
      "\u001b[0;31m---------------------------------------------------------------------------\u001b[0m",
      "\u001b[0;31mNameError\u001b[0m                                 Traceback (most recent call last)",
      "Input \u001b[0;32mIn [29]\u001b[0m, in \u001b[0;36m<cell line: 1>\u001b[0;34m()\u001b[0m\n\u001b[0;32m----> 1\u001b[0m \u001b[38;5;129m@cuda\u001b[39m\u001b[38;5;241m.\u001b[39mjit\n\u001b[1;32m      2\u001b[0m \u001b[38;5;28;01mdef\u001b[39;00m \u001b[38;5;21mnative_python_monte_kernel\u001b[39m(array_a, array_b, array_c):\n\u001b[1;32m      3\u001b[0m     \u001b[38;5;66;03m# Thread id in a 1D block\u001b[39;00m\n\u001b[1;32m      4\u001b[0m     tx \u001b[38;5;241m=\u001b[39m cuda\u001b[38;5;241m.\u001b[39mthreadIdx\u001b[38;5;241m.\u001b[39mx\n\u001b[1;32m      6\u001b[0m     \u001b[38;5;28;01mif\u001b[39;00m tx \u001b[38;5;241m<\u001b[39m an_array\u001b[38;5;241m.\u001b[39msize:  \u001b[38;5;66;03m# Check array boundaries\u001b[39;00m\n",
      "\u001b[0;31mNameError\u001b[0m: name 'cuda' is not defined"
     ]
    }
   ],
   "source": [
    "@cuda.jit\n",
    "def native_python_monte_kernel(array_a, array_b, array_c):\n",
    "    # Thread id in a 1D block\n",
    "    tx = cuda.threadIdx.x\n",
    " \n",
    "    if tx < an_array.size:  # Check array boundaries\n",
    "        array_c[tx] = 1 if array_a[tx]**2 + array_b[tx]**2 <= 1.0  else 0"
   ]
  },
  {
   "cell_type": "code",
   "execution_count": 30,
   "id": "1f057f9b",
   "metadata": {
    "solution2": "hidden"
   },
   "outputs": [
    {
     "ename": "NameError",
     "evalue": "name 'native_python_monte_kernel' is not defined",
     "output_type": "error",
     "traceback": [
      "\u001b[0;31m---------------------------------------------------------------------------\u001b[0m",
      "\u001b[0;31mNameError\u001b[0m                                 Traceback (most recent call last)",
      "Input \u001b[0;32mIn [30]\u001b[0m, in \u001b[0;36m<cell line: 7>\u001b[0;34m()\u001b[0m\n\u001b[1;32m      3\u001b[0m array_b \u001b[38;5;241m=\u001b[39m np\u001b[38;5;241m.\u001b[39mrandom\u001b[38;5;241m.\u001b[39mrandom(n)\n\u001b[1;32m      4\u001b[0m array_c \u001b[38;5;241m=\u001b[39m np\u001b[38;5;241m.\u001b[39mzeros(n)\n\u001b[0;32m----> 7\u001b[0m \u001b[43mnative_python_monte_kernel\u001b[49m[\u001b[38;5;241m1\u001b[39m, n](array_a, array_b, array_c)\n\u001b[1;32m      8\u001b[0m \u001b[38;5;28mprint\u001b[39m(\u001b[38;5;241m4.0\u001b[39m \u001b[38;5;241m*\u001b[39m np\u001b[38;5;241m.\u001b[39msum(array_c) \u001b[38;5;241m/\u001b[39m n)\n",
      "\u001b[0;31mNameError\u001b[0m: name 'native_python_monte_kernel' is not defined"
     ]
    }
   ],
   "source": [
    "n = 512\n",
    "array_a = np.random.random(n)\n",
    "array_b = np.random.random(n)\n",
    "array_c = np.zeros(n)\n",
    "\n",
    "\n",
    "native_python_monte_kernel[1, n](array_a, array_b, array_c)\n",
    "print(4.0 * np.sum(array_c) / n)"
   ]
  },
  {
   "cell_type": "code",
   "execution_count": null,
   "id": "2a6da200",
   "metadata": {},
   "outputs": [],
   "source": []
  }
 ],
 "metadata": {
  "kernelspec": {
   "display_name": "Python 3 (ipykernel)",
   "language": "python",
   "name": "python3"
  },
  "language_info": {
   "codemirror_mode": {
    "name": "ipython",
    "version": 3
   },
   "file_extension": ".py",
   "mimetype": "text/x-python",
   "name": "python",
   "nbconvert_exporter": "python",
   "pygments_lexer": "ipython3",
   "version": "3.9.16"
  }
 },
 "nbformat": 4,
 "nbformat_minor": 5
}
