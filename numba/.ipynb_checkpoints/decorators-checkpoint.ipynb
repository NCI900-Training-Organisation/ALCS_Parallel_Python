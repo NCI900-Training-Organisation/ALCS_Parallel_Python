{
 "cells": [
  {
   "cell_type": "markdown",
   "id": "9a7f1d10",
   "metadata": {},
   "source": [
    "## Decorators in Python"
   ]
  },
  {
   "cell_type": "markdown",
   "id": "7410919a",
   "metadata": {},
   "source": [
    "In Python functions\n",
    "    * Can be passed as an argument returned from a function\n",
    "    * Modified, and assigned to a variable. "
   ]
  },
  {
   "cell_type": "markdown",
   "id": "d653fcc6",
   "metadata": {},
   "source": []
  },
  {
   "cell_type": "code",
   "execution_count": null,
   "id": "e890d3a1",
   "metadata": {},
   "outputs": [],
   "source": [
    "def uppercase(function):\n",
    "    def wrapper():\n",
    "        #assign the function to a variable\n",
    "        func = function()\n",
    "        make_uppercase = func.upper() # Convert the return value to upper case\n",
    "        return make_uppercase\n",
    "\n",
    "    return wrapper"
   ]
  },
  {
   "cell_type": "code",
   "execution_count": 17,
   "id": "c1eca8ea",
   "metadata": {},
   "outputs": [
    {
     "data": {
      "text/plain": [
       "'HELLO WORLD'"
      ]
     },
     "execution_count": 17,
     "metadata": {},
     "output_type": "execute_result"
    }
   ],
   "source": [
    "def hello_world():\n",
    "    return 'Hello World'\n",
    "\n",
    "decorate = uppercase(hello_world)\n",
    "decorate()"
   ]
  },
  {
   "cell_type": "code",
   "execution_count": 18,
   "id": "dfd3dac8",
   "metadata": {},
   "outputs": [
    {
     "data": {
      "text/plain": [
       "'HELLO WORLD WITH DECORATOR'"
      ]
     },
     "execution_count": 18,
     "metadata": {},
     "output_type": "execute_result"
    }
   ],
   "source": [
    "@uppercase\n",
    "def hello_world_with_decorator():\n",
    "    return 'Hello World with decorator'\n",
    "\n",
    "hello_world_with_decorator()"
   ]
  }
 ],
 "metadata": {
  "kernelspec": {
   "display_name": "Python 3",
   "language": "python",
   "name": "python3"
  },
  "language_info": {
   "codemirror_mode": {
    "name": "ipython",
    "version": 3
   },
   "file_extension": ".py",
   "mimetype": "text/x-python",
   "name": "python",
   "nbconvert_exporter": "python",
   "pygments_lexer": "ipython3",
   "version": "3.8.10"
  }
 },
 "nbformat": 4,
 "nbformat_minor": 5
}
