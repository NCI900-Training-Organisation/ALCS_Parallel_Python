{
 "cells": [
  {
   "cell_type": "code",
   "execution_count": 7,
   "id": "57ce1732",
   "metadata": {},
   "outputs": [],
   "source": [
    "import numpy as np\n",
    "import cupy as cp"
   ]
  },
  {
   "cell_type": "markdown",
   "id": "c122c2c7",
   "metadata": {},
   "source": [
    "##### CuPy implements a subset of Numpy interface. \n",
    "\n",
    "``cupy.ndarray `` is akin to the ``numpy.ndarray ``. It is an array object that represents a multidimensional, homogeneous array of fixed-size items. This is the core of CuPy\n"
   ]
  },
  {
   "cell_type": "markdown",
   "id": "41fda347",
   "metadata": {},
   "source": [
    "##### A call to the ``numpy.array()`` allocates the data in the main memory"
   ]
  },
  {
   "cell_type": "code",
   "execution_count": 3,
   "id": "7779ac6f",
   "metadata": {},
   "outputs": [],
   "source": [
    "x_cpu = np.array([1, 2, 3]) # allocate an ndarray in the main memory"
   ]
  },
  {
   "cell_type": "markdown",
   "id": "45e4c5ab",
   "metadata": {},
   "source": [
    "##### While a call to the ``cupy.array()`` allocates the data in the GPU memory. If no device is specified the memory gets allocated in the ``current`` device."
   ]
  },
  {
   "cell_type": "code",
   "execution_count": 4,
   "id": "069b9c1e",
   "metadata": {},
   "outputs": [],
   "source": [
    "x_gpu = cp.array([1, 2, 3])"
   ]
  },
  {
   "cell_type": "markdown",
   "id": "f3f17c43",
   "metadata": {},
   "source": [
    "##### We can use the  device context manage to switch between the devices"
   ]
  },
  {
   "cell_type": "code",
   "execution_count": 5,
   "id": "94650ba8",
   "metadata": {},
   "outputs": [],
   "source": [
    "with cp.cuda.Device(1):  # alloacte an ndarray in the gpu memory of the 1st device\n",
    "    x_on_gpu1 = cp.array([1, 2, 3, 4, 5])"
   ]
  },
  {
   "cell_type": "code",
   "execution_count": 6,
   "id": "dd168386",
   "metadata": {},
   "outputs": [
    {
     "name": "stdout",
     "output_type": "stream",
     "text": [
      "location of x_gpu = <CUDA Device 0>\n",
      "location of x_gpu1 = <CUDA Device 1>\n"
     ]
    }
   ],
   "source": [
    "print('location of x_gpu = ' + str(x_gpu.device) )\n",
    "print('location of x_gpu1 = ' + str(x_on_gpu1.device) )"
   ]
  },
  {
   "cell_type": "markdown",
   "id": "94e52cde",
   "metadata": {},
   "source": [
    "##### CuPy always assumes that the operations are performed on the currently active device. "
   ]
  }
 ],
 "metadata": {
  "kernelspec": {
   "display_name": "Python 3",
   "language": "python",
   "name": "python3"
  },
  "language_info": {
   "codemirror_mode": {
    "name": "ipython",
    "version": 3
   },
   "file_extension": ".py",
   "mimetype": "text/x-python",
   "name": "python",
   "nbconvert_exporter": "python",
   "pygments_lexer": "ipython3",
   "version": "3.8.10"
  }
 },
 "nbformat": 4,
 "nbformat_minor": 5
}
