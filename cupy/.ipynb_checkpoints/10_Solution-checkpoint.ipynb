{
 "cells": [
  {
   "cell_type": "code",
   "execution_count": 17,
   "id": "268d66cf",
   "metadata": {},
   "outputs": [],
   "source": [
    "import numpy as np\n",
    "import cupy as cp\n",
    "\n",
    "import random"
   ]
  },
  {
   "cell_type": "code",
   "execution_count": 18,
   "id": "1157bbce-0461-4e8f-8788-0d73f22dc678",
   "metadata": {},
   "outputs": [],
   "source": [
    "def monte_carlo_gpu(n:int, m:int)-> float:\n",
    "    \n",
    "    accum = 0\n",
    "    for i in range(m):\n",
    "    \n",
    "        x = cp.random.random(n, dtype=np.float32)\n",
    "        y = cp.random.random(n, dtype=np.float32)\n",
    "    \n",
    "        r = cp.less(x**2 + y**2, 1.0)\n",
    "        \n",
    "        accum += cp.sum(r)/n\n",
    "    \n",
    "    return 4.0*accum/m"
   ]
  },
  {
   "cell_type": "code",
   "execution_count": 19,
   "id": "433742ae-a551-43f9-a359-36c6440d65c3",
   "metadata": {},
   "outputs": [
    {
     "data": {
      "text/plain": [
       "array(3.140384)"
      ]
     },
     "execution_count": 19,
     "metadata": {},
     "output_type": "execute_result"
    }
   ],
   "source": [
    "monte_carlo_gpu(500, 500)"
   ]
  },
  {
   "cell_type": "code",
   "execution_count": null,
   "id": "9bb8cd6d-9f66-4f1d-8bcc-32d40f883e81",
   "metadata": {},
   "outputs": [],
   "source": []
  }
 ],
 "metadata": {
  "kernelspec": {
   "display_name": "Python 3 (ipykernel)",
   "language": "python",
   "name": "python3"
  },
  "language_info": {
   "codemirror_mode": {
    "name": "ipython",
    "version": 3
   },
   "file_extension": ".py",
   "mimetype": "text/x-python",
   "name": "python",
   "nbconvert_exporter": "python",
   "pygments_lexer": "ipython3",
   "version": "3.9.2"
  }
 },
 "nbformat": 4,
 "nbformat_minor": 5
}
