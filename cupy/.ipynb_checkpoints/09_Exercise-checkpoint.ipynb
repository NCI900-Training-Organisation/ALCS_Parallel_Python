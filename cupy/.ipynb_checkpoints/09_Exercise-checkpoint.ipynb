{
 "cells": [
  {
   "cell_type": "code",
   "execution_count": 7,
   "id": "268d66cf",
   "metadata": {},
   "outputs": [],
   "source": [
    "import numpy as np\n",
    "import random"
   ]
  },
  {
   "cell_type": "code",
   "execution_count": 8,
   "id": "1157bbce-0461-4e8f-8788-0d73f22dc678",
   "metadata": {},
   "outputs": [],
   "source": [
    "def monte_carlo_cpu(n:int, m:int)-> float:\n",
    "    \n",
    "    accum = 0\n",
    "    for i in range(m):\n",
    "    \n",
    "        x = np.random.random(n)\n",
    "        y = np.random.random(n)\n",
    "    \n",
    "        r = np.less(x**2 + y**2, 1.0)\n",
    "        \n",
    "        accum += np.sum(r)/n\n",
    "    \n",
    "    return 4.0*accum/m"
   ]
  },
  {
   "cell_type": "code",
   "execution_count": 9,
   "id": "433742ae-a551-43f9-a359-36c6440d65c3",
   "metadata": {},
   "outputs": [
    {
     "data": {
      "text/plain": [
       "3.1390240000000005"
      ]
     },
     "execution_count": 9,
     "metadata": {},
     "output_type": "execute_result"
    }
   ],
   "source": [
    "monte_carlo_cpu(500, 500)"
   ]
  },
  {
   "cell_type": "code",
   "execution_count": null,
   "id": "9bb8cd6d-9f66-4f1d-8bcc-32d40f883e81",
   "metadata": {},
   "outputs": [],
   "source": []
  }
 ],
 "metadata": {
  "kernelspec": {
   "display_name": "Python 3 (ipykernel)",
   "language": "python",
   "name": "python3"
  },
  "language_info": {
   "codemirror_mode": {
    "name": "ipython",
    "version": 3
   },
   "file_extension": ".py",
   "mimetype": "text/x-python",
   "name": "python",
   "nbconvert_exporter": "python",
   "pygments_lexer": "ipython3",
   "version": "3.9.2"
  }
 },
 "nbformat": 4,
 "nbformat_minor": 5
}
