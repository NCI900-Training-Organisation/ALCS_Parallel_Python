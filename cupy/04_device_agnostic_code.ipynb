{
 "cells": [
  {
   "cell_type": "code",
   "execution_count": 8,
   "id": "b274e399",
   "metadata": {},
   "outputs": [],
   "source": [
    "import numpy as np\n",
    "import cupy as cp"
   ]
  },
  {
   "cell_type": "code",
   "execution_count": 10,
   "id": "3b045da2",
   "metadata": {},
   "outputs": [],
   "source": [
    "x_cpu = np.array([1, 2, 3])\n",
    "x_gpu = cp.array([1, 2, 3, 4, 5])"
   ]
  },
  {
   "cell_type": "markdown",
   "id": "8aeb977d",
   "metadata": {},
   "source": [
    "#### As cupy mimicks numpy we can build device agnostics codes. That is, we can make function calls to a data, without the knowledge of where they reside. The ``cupy.get_array_module()`` function in CuPy returns a reference to cupy if any of its arguments resides on a GPU and numpy otherwise."
   ]
  },
  {
   "cell_type": "code",
   "execution_count": 14,
   "id": "c565c2e1",
   "metadata": {},
   "outputs": [],
   "source": [
    "def log_array(x):\n",
    "    xp = cp.get_array_module(x)  # cupy ndarray array reference is returned if x is in GPU\n",
    "                                 # numpy ndarray array reference is returned if x is in host memory\n",
    "    xp.log1p(xp.exp(-abs(x))) "
   ]
  },
  {
   "cell_type": "code",
   "execution_count": 15,
   "id": "6d886430",
   "metadata": {},
   "outputs": [],
   "source": [
    "log_array(x_cpu) # the function works with numpy ndarray"
   ]
  },
  {
   "cell_type": "code",
   "execution_count": 16,
   "id": "2ee1de6d",
   "metadata": {},
   "outputs": [],
   "source": [
    "log_array(x_gpu) # the function works with cupy ndarray"
   ]
  },
  {
   "cell_type": "code",
   "execution_count": null,
   "id": "86985646",
   "metadata": {},
   "outputs": [],
   "source": []
  }
 ],
 "metadata": {
  "kernelspec": {
   "display_name": "Python 3",
   "language": "python",
   "name": "python3"
  },
  "language_info": {
   "codemirror_mode": {
    "name": "ipython",
    "version": 3
   },
   "file_extension": ".py",
   "mimetype": "text/x-python",
   "name": "python",
   "nbconvert_exporter": "python",
   "pygments_lexer": "ipython3",
   "version": "3.8.10"
  }
 },
 "nbformat": 4,
 "nbformat_minor": 5
}
