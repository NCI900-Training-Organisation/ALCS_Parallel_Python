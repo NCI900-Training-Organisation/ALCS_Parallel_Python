{
 "cells": [
  {
   "cell_type": "code",
   "execution_count": 2,
   "id": "9ac65359",
   "metadata": {},
   "outputs": [],
   "source": [
    "import numpy as np\n",
    "import cupy as cp"
   ]
  },
  {
   "cell_type": "code",
   "execution_count": 3,
   "id": "f4173859",
   "metadata": {},
   "outputs": [],
   "source": [
    "x_cpu = np.array([1, 2, 3])\n",
    "y_cpu = np.array([4, 5, 6])"
   ]
  },
  {
   "cell_type": "code",
   "execution_count": 7,
   "id": "f3262c65",
   "metadata": {},
   "outputs": [],
   "source": [
    "z_cpu = x_cpu + y_cpu"
   ]
  },
  {
   "cell_type": "markdown",
   "id": "372d6b0b",
   "metadata": {},
   "source": [
    "#### While CuPy automates most data transfers, we may need to move things explicitly between host and GPU, depdending on the application we are implementing.  CuPy provides two methods ``cupy.asnumpy()`` and ``cupy.asarray()`` to do this. \n",
    "\n",
    "#### The ``cupy.asnumpy() `` method returns a NumPy array (array on the host), whereas ``cupy.asarray()`` method returns a CuPy array (array on the current device)"
   ]
  },
  {
   "cell_type": "code",
   "execution_count": 4,
   "id": "87b8f8d6",
   "metadata": {},
   "outputs": [],
   "source": [
    "x_gpu = cp.asarray(x_cpu) #copy host data to GPU mem"
   ]
  },
  {
   "cell_type": "code",
   "execution_count": 8,
   "id": "de68f271",
   "metadata": {},
   "outputs": [
    {
     "ename": "TypeError",
     "evalue": "Unsupported type <class 'numpy.ndarray'>",
     "output_type": "error",
     "traceback": [
      "\u001b[0;31m---------------------------------------------------------------------------\u001b[0m",
      "\u001b[0;31mTypeError\u001b[0m                                 Traceback (most recent call last)",
      "\u001b[0;32m<ipython-input-8-eb7a38e089f6>\u001b[0m in \u001b[0;36m<module>\u001b[0;34m\u001b[0m\n\u001b[1;32m      3\u001b[0m \u001b[0;31m# z_cpu is located in host memory\u001b[0m\u001b[0;34m\u001b[0m\u001b[0;34m\u001b[0m\u001b[0;34m\u001b[0m\u001b[0m\n\u001b[1;32m      4\u001b[0m \u001b[0;34m\u001b[0m\u001b[0m\n\u001b[0;32m----> 5\u001b[0;31m \u001b[0mz_cpu\u001b[0m \u001b[0;34m=\u001b[0m \u001b[0mx_gpu\u001b[0m \u001b[0;34m+\u001b[0m \u001b[0my_cpu\u001b[0m\u001b[0;34m\u001b[0m\u001b[0;34m\u001b[0m\u001b[0m\n\u001b[0m",
      "\u001b[0;32mcupy/_core/core.pyx\u001b[0m in \u001b[0;36mcupy._core.core._ndarray_base.__add__\u001b[0;34m()\u001b[0m\n",
      "\u001b[0;32mcupy/_core/core.pyx\u001b[0m in \u001b[0;36mcupy._core.core._ndarray_base.__array_ufunc__\u001b[0;34m()\u001b[0m\n",
      "\u001b[0;32mcupy/_core/_kernel.pyx\u001b[0m in \u001b[0;36mcupy._core._kernel.ufunc.__call__\u001b[0;34m()\u001b[0m\n",
      "\u001b[0;32mcupy/_core/_kernel.pyx\u001b[0m in \u001b[0;36mcupy._core._kernel._preprocess_args\u001b[0;34m()\u001b[0m\n",
      "\u001b[0;32mcupy/_core/_kernel.pyx\u001b[0m in \u001b[0;36mcupy._core._kernel._preprocess_arg\u001b[0;34m()\u001b[0m\n",
      "\u001b[0;31mTypeError\u001b[0m: Unsupported type <class 'numpy.ndarray'>"
     ]
    }
   ],
   "source": [
    "# x_gpu is located in device memory\n",
    "# y_cpu is located in host memory\n",
    "# z_cpu is located in host memory\n",
    "\n",
    "z_cpu = x_gpu + y_cpu\n"
   ]
  },
  {
   "cell_type": "markdown",
   "id": "08a3e188",
   "metadata": {},
   "source": [
    "#### We cant have an opeartion where on memory is located on on memory domain (Host) and the other is located on another memory domain (GPU). "
   ]
  },
  {
   "cell_type": "code",
   "execution_count": 11,
   "id": "a56103b3",
   "metadata": {},
   "outputs": [],
   "source": [
    "\n",
    "\n",
    "x_gpu = cp.asarray(x_cpu) #copy host data to GPU mem\n",
    "\n",
    "# x_gpu is located in device memory\n",
    "# y_cpu is located in host memory\n",
    "# z_cpu is located in host memory\n",
    "\n"
   ]
  },
  {
   "cell_type": "markdown",
   "id": "ce231ef7",
   "metadata": {},
   "source": [
    "#### So either both the data we operate on must be in host memory"
   ]
  },
  {
   "cell_type": "code",
   "execution_count": 13,
   "id": "00986f29",
   "metadata": {},
   "outputs": [],
   "source": [
    "# move x_gpu to host memory\n",
    "x_cpu = cp.asnumpy(x_gpu) \n",
    "z_cpu = x_cpu + y_cpu\n",
    "\n"
   ]
  },
  {
   "cell_type": "markdown",
   "id": "7de8ac4b",
   "metadata": {},
   "source": [
    "#### .... or on the GPU memory"
   ]
  },
  {
   "cell_type": "code",
   "execution_count": 15,
   "id": "8ac444e4",
   "metadata": {},
   "outputs": [],
   "source": [
    "# or move y_cpu to device memory\n",
    "y_gpu = cp.asarray(y_cpu)\n",
    "z_gpu = x_gpu + y_gpu"
   ]
  },
  {
   "cell_type": "code",
   "execution_count": null,
   "id": "8fabc370",
   "metadata": {},
   "outputs": [],
   "source": []
  }
 ],
 "metadata": {
  "kernelspec": {
   "display_name": "Python 3",
   "language": "python",
   "name": "python3"
  },
  "language_info": {
   "codemirror_mode": {
    "name": "ipython",
    "version": 3
   },
   "file_extension": ".py",
   "mimetype": "text/x-python",
   "name": "python",
   "nbconvert_exporter": "python",
   "pygments_lexer": "ipython3",
   "version": "3.8.10"
  }
 },
 "nbformat": 4,
 "nbformat_minor": 5
}
