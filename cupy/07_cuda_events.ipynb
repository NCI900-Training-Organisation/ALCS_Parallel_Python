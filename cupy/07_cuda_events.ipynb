{
 "cells": [
  {
   "cell_type": "code",
   "execution_count": 1,
   "id": "93424223",
   "metadata": {},
   "outputs": [],
   "source": [
    "import numpy as np\n",
    "import cupy as cp\n"
   ]
  },
  {
   "cell_type": "code",
   "execution_count": 2,
   "id": "ceb546de",
   "metadata": {},
   "outputs": [],
   "source": [
    "a_cp = cp.arange(10)\n",
    "b_cp = cp.arange(10)\n"
   ]
  },
  {
   "cell_type": "code",
   "execution_count": 3,
   "id": "c46a8d2c",
   "metadata": {},
   "outputs": [],
   "source": [
    "e1 = cp.cuda.Event() # create an event"
   ]
  },
  {
   "cell_type": "code",
   "execution_count": 4,
   "id": "67106e62",
   "metadata": {},
   "outputs": [],
   "source": [
    "e1.record() # Records an event on the stream."
   ]
  },
  {
   "cell_type": "code",
   "execution_count": 5,
   "id": "7a2c3a2a",
   "metadata": {},
   "outputs": [],
   "source": [
    "a_cp = b_cp * a_cp + 8"
   ]
  },
  {
   "cell_type": "code",
   "execution_count": 6,
   "id": "aa45a085",
   "metadata": {},
   "outputs": [],
   "source": [
    "e2 = cp.cuda.get_current_stream().record() # create and record the event"
   ]
  },
  {
   "cell_type": "code",
   "execution_count": 7,
   "id": "e8c0272c",
   "metadata": {},
   "outputs": [],
   "source": [
    "s = cp.cuda.Stream.null\n",
    "# make sure the stream wait for the second event\n",
    "s.wait_event(e2)\n",
    "\n"
   ]
  },
  {
   "cell_type": "code",
   "execution_count": 8,
   "id": "3d8fd52b",
   "metadata": {},
   "outputs": [
    {
     "name": "stdout",
     "output_type": "stream",
     "text": [
      "5372.24365234375\n"
     ]
    }
   ],
   "source": [
    "with s:\n",
    "    # all actions in a stream happens seuentially\n",
    "    # as the stream is waiting for the second event to complete\n",
    "    # we can be assured that all the operations before it also has been complete.\n",
    "    a_np = cp.asnumpy(a_cp)\n",
    "\n",
    "# Waits for the stream that track an event to complete that event\n",
    "e2.synchronize()\n",
    "t = cp.cuda.get_elapsed_time(e1, e2)\n",
    "\n",
    "print(t)\n"
   ]
  },
  {
   "cell_type": "code",
   "execution_count": null,
   "id": "437d0a90",
   "metadata": {},
   "outputs": [],
   "source": [
    "# https://developer.nvidia.com/blog/how-implement-performance-metrics-cuda-cc/"
   ]
  }
 ],
 "metadata": {
  "kernelspec": {
   "display_name": "Python 3",
   "language": "python",
   "name": "python3"
  },
  "language_info": {
   "codemirror_mode": {
    "name": "ipython",
    "version": 3
   },
   "file_extension": ".py",
   "mimetype": "text/x-python",
   "name": "python",
   "nbconvert_exporter": "python",
   "pygments_lexer": "ipython3",
   "version": "3.8.10"
  }
 },
 "nbformat": 4,
 "nbformat_minor": 5
}
